{
 "cells": [
  {
   "cell_type": "code",
   "execution_count": 3,
   "metadata": {},
   "outputs": [],
   "source": [
    "import matplotlib.pyplot as plt\n",
    "import numpy as np\n",
    "import pandas as pd"
   ]
  },
  {
   "cell_type": "code",
   "execution_count": 4,
   "metadata": {},
   "outputs": [],
   "source": [
    "def calculate_normalizing_scale_factor(strokes):\n",
    "    \"\"\"Calculate the normalizing factor explained in appendix of sketch-rnn.\"\"\"\n",
    "    data = []\n",
    "    for i in range(len(strokes)):\n",
    "        for j in range(len(strokes[i])):\n",
    "            data.append(strokes[i][j, 0])\n",
    "            data.append(strokes[i][j, 1])\n",
    "    data = np.array(data)\n",
    "    return np.std(data)"
   ]
  },
  {
   "cell_type": "code",
   "execution_count": 5,
   "metadata": {},
   "outputs": [],
   "source": [
    "longest_sequence = 200 # sequences of strokes capped at 200 (avoid scribbles)\n",
    "\n",
    "def remove_noise(noisy_data):\n",
    "    clean_data = []\n",
    "    scale_factor = calculate_normalizing_scale_factor(noisy_data)\n",
    "    for seq in noisy_data:\n",
    "        if seq.shape[0] <= longest_sequence and seq.shape[0] > 10:\n",
    "            seq = np.minimum(seq, 1000)\n",
    "            seq = np.maximum(seq, -1000)\n",
    "            seq = np.array(seq, dtype=np.float32)\n",
    "            seq[:, 0:2] /= scale_factor # normalize the strokes, so not too long\n",
    "            clean_data.append(seq)\n",
    "            \n",
    "    return clean_data"
   ]
  },
  {
   "cell_type": "code",
   "execution_count": 6,
   "metadata": {},
   "outputs": [],
   "source": [
    "# px, py = 28, 28\n",
    "# px, py = w*dpi, h*dpi -> 28 = w*10\n",
    "\n",
    "def draw_sequence(seq_strokes, dataset_type, sketch_num):\n",
    "    fig = plt.figure(frameon=False)\n",
    "    fig.set_size_inches(1,1)\n",
    "    ax = plt.gca()\n",
    "    ax.xaxis.set_ticks_position('top')\n",
    "    ax.invert_yaxis()\n",
    "    ax.set(facecolor = \"white\")\n",
    "    \n",
    "    x_coOrds = [0]\n",
    "    y_coOrds= [0]\n",
    "    pen_state = 0\n",
    "    \n",
    "    # start of sequence\n",
    "    prev_x = 0\n",
    "    prev_y = 0\n",
    "    \n",
    "    for stroke in seq_strokes:\n",
    "        prev_x += stroke[0]\n",
    "        prev_y += stroke[1]\n",
    "        \n",
    "        if (stroke[2] == 1):\n",
    "            plt.plot(x_coOrds, y_coOrds, color=\"black\")\n",
    "            x_coOrds = [prev_x]\n",
    "            y_coOrds = [prev_y]\n",
    "        else:\n",
    "            x_coOrds.append(prev_x)\n",
    "            y_coOrds.append(prev_y)\n",
    "\n",
    "    plt.subplot(1,1,1)\n",
    "    plt.axis('off')\n",
    "    plt.savefig(F\"../Datasets/cat/{dataset_type}/{sketch_num}.png\", dpi=28, transparent=False)"
   ]
  },
  {
   "cell_type": "code",
   "execution_count": null,
   "metadata": {},
   "outputs": [
    {
     "name": "stderr",
     "output_type": "stream",
     "text": [
      "/home/muna/anaconda3/envs/env_pytorch/lib/python3.6/site-packages/ipykernel_launcher.py:32: MatplotlibDeprecationWarning: Adding an axes using the same arguments as a previous axes currently reuses the earlier instance.  In a future version, a new instance will always be created and returned.  Meanwhile, this warning can be suppressed, and the future behavior ensured, by passing a unique label to each axes instance.\n",
      "/home/muna/anaconda3/envs/env_pytorch/lib/python3.6/site-packages/ipykernel_launcher.py:5: RuntimeWarning: More than 20 figures have been opened. Figures created through the pyplot interface (`matplotlib.pyplot.figure`) are retained until explicitly closed and may consume too much memory. (To control this warning, see the rcParam `figure.max_open_warning`).\n",
      "  \"\"\"\n"
     ]
    }
   ],
   "source": [
    "# Load npz data and examine contents\n",
    "\n",
    "data_location = '../Datasets/cat.npz'\n",
    "dataset = np.load(data_location, encoding='latin1')\n",
    "data_train = dataset['train']\n",
    "data_test = dataset['test']\n",
    "data_valid = dataset['valid']\n",
    "\n",
    "clean_train = remove_noise(data_train)\n",
    "for i, sketch in enumerate(clean_train):\n",
    "    if i > 18657:\n",
    "        draw_sequence(sketch, \"train\", i)\n",
    "    \n",
    "clean_train = remove_noise(data_test)\n",
    "for i, sketch in enumerate(clean_train):\n",
    "    draw_sequence(sketch, \"test\", i)\n",
    "    \n",
    "clean_train = remove_noise(data_valid)\n",
    "for i, sketch in enumerate(clean_train):\n",
    "    draw_sequence(sketch, \"valid\", i)"
   ]
  },
  {
   "cell_type": "code",
   "execution_count": null,
   "metadata": {},
   "outputs": [],
   "source": [
    "# import json\n",
    "# from scipy import interpolate\n",
    "# import pylab as pl\n",
    "# f = open(\"../Datasets/full_simplified_cat.json\")\n",
    "# setting = json.load(f)\n",
    "\n",
    "# for j in range(0,10):\n",
    "#     for i in range(0,len(setting[j]['drawing'])):\n",
    "#         x = setting[j]['drawing'][i][0]\n",
    "#         y = setting[j]['drawing'][i][1]\n",
    "#         f = interpolate.interp1d(x,y,kind=\"slinear\")\n",
    "#         pl.plot(x,y,'k')\n",
    "#     ax = pl.gca()\n",
    "#     ax.xaxis.set_ticks_position('top')\n",
    "#     ax.invert_yaxis()\n",
    "#     pl.axis('off')\n",
    "#     pl.savefig(\"../Datasets/cat/%d.png\"%j)\n",
    "#     pl.close()"
   ]
  },
  {
   "cell_type": "code",
   "execution_count": null,
   "metadata": {},
   "outputs": [],
   "source": []
  }
 ],
 "metadata": {
  "kernelspec": {
   "display_name": "Python [conda env:env_pytorch] *",
   "language": "python",
   "name": "conda-env-env_pytorch-py"
  },
  "language_info": {
   "codemirror_mode": {
    "name": "ipython",
    "version": 3
   },
   "file_extension": ".py",
   "mimetype": "text/x-python",
   "name": "python",
   "nbconvert_exporter": "python",
   "pygments_lexer": "ipython3",
   "version": "3.6.12"
  }
 },
 "nbformat": 4,
 "nbformat_minor": 4
}
