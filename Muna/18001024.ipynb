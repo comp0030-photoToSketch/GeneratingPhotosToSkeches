{
 "cells": [
  {
   "cell_type": "markdown",
   "metadata": {
    "id": "wY6vy5uAM-jZ"
   },
   "source": [
    "# CW1 - Student no: 18001024\n"
   ]
  },
  {
   "cell_type": "code",
   "execution_count": 2,
   "metadata": {
    "colab": {
     "base_uri": "https://localhost:8080/"
    },
    "id": "FsZ9Ogk-XUup",
    "outputId": "c8c8756a-f199-45de-93f6-25798472aa68"
   },
   "outputs": [
    {
     "name": "stdout",
     "output_type": "stream",
     "text": [
      "Drive already mounted at /content/drive/; to attempt to forcibly remount, call drive.mount(\"/content/drive/\", force_remount=True).\n"
     ]
    }
   ],
   "source": [
    "from google.colab import drive\n",
    "drive.mount('/content/drive/')"
   ]
  },
  {
   "cell_type": "markdown",
   "metadata": {
    "id": "AxIECXu2NO-P"
   },
   "source": [
    "## Imports"
   ]
  },
  {
   "cell_type": "code",
   "execution_count": 3,
   "metadata": {
    "id": "_YJpYrFcQ_VL"
   },
   "outputs": [],
   "source": [
    "import os\n",
    "import numpy as np\n",
    "import matplotlib.pyplot as plt\n",
    "import torch\n",
    "\n",
    "%matplotlib inline"
   ]
  },
  {
   "cell_type": "markdown",
   "metadata": {
    "id": "1VX5AvQqNWPc"
   },
   "source": [
    "## Dataset Loading Functions"
   ]
  },
  {
   "cell_type": "code",
   "execution_count": 4,
   "metadata": {
    "id": "2owLIOAbTBwI"
   },
   "outputs": [],
   "source": [
    "def load_iris_dataset():\n",
    "    Y_iris_train = np.load('/content/drive/My Drive/Datasets/Datasets/IRIS/iris_train_labels.npy')\n",
    "    X_iris_train = np.load('/content/drive/My Drive/Datasets/Datasets/IRIS/iris_train_samples.npy')\n",
    "    Y_iris_val = np.load('/content/drive/My Drive/Datasets/Datasets/IRIS/iris_val_labels.npy')\n",
    "    X_iris_val = np.load('/content/drive/My Drive/Datasets/Datasets/IRIS/iris_val_samples.npy')\n",
    "\n",
    "    return X_iris_train, X_iris_val, Y_iris_train, Y_iris_val\n",
    "\n",
    "def load_mnist_dataset():\n",
    "    Y_mnist_train = np.load('/content/drive/My Drive/Datasets/Datasets/MNIST/mnist_train_labels.npy')\n",
    "    X_mnist_train = np.load('/content/drive/My Drive/Datasets/Datasets/MNIST/mnist_train_samples.npy')\n",
    "    Y_mnist_val = np.load('/content/drive/My Drive/Datasets/Datasets/MNIST/mnist_val_labels.npy')\n",
    "    X_mnist_val = np.load('/content/drive/My Drive/Datasets/Datasets/MNIST/mnist_val_samples.npy')\n",
    "\n",
    "    return X_mnist_train, X_mnist_val, Y_mnist_train, Y_mnist_val"
   ]
  },
  {
   "cell_type": "code",
   "execution_count": 5,
   "metadata": {
    "id": "rwYftoAcOyZG"
   },
   "outputs": [],
   "source": [
    "X_iris_train, X_iris_val, Y_iris_train, Y_iris_val = load_iris_dataset()\n",
    "X_mnist_train, X_mnist_val, Y_mnist_train, Y_mnist_val = load_mnist_dataset()"
   ]
  },
  {
   "cell_type": "markdown",
   "metadata": {
    "id": "ZeY7bqFoRNKs"
   },
   "source": [
    "## Questions"
   ]
  },
  {
   "cell_type": "markdown",
   "metadata": {
    "id": "hE5B4_qDN5Nk"
   },
   "source": [
    "## Line Fitting (10 points)"
   ]
  },
  {
   "cell_type": "markdown",
   "metadata": {
    "id": "gLNNrAdpODz7"
   },
   "source": [
    "**Question 1a: Implement the normal equation solver function nsolve, which takes as input the matrix X and the target vector y and returns the optimized weights w. (5 points)**"
   ]
  },
  {
   "cell_type": "code",
   "execution_count": 6,
   "metadata": {
    "colab": {
     "base_uri": "https://localhost:8080/"
    },
    "id": "pO3P_9f0X7ZO",
    "outputId": "b0d0eb86-f382-494e-e5bd-37050dc618f5"
   },
   "outputs": [
    {
     "name": "stdout",
     "output_type": "stream",
     "text": [
      "(96,)\n",
      "(96, 4)\n",
      "(15,)\n",
      "(15, 4)\n",
      "(44800,)\n",
      "(44800, 784)\n",
      "(7000,)\n",
      "(7000, 784)\n"
     ]
    }
   ],
   "source": [
    "# Having a look at the data\n",
    "print(Y_iris_train.shape)\n",
    "print(X_iris_train.shape)\n",
    "\n",
    "print(Y_iris_val.shape)\n",
    "print(X_iris_val.shape)\n",
    "\n",
    "print(Y_mnist_train.shape)\n",
    "print(X_mnist_train.shape)\n",
    "\n",
    "print(Y_mnist_val.shape)\n",
    "print(X_mnist_val.shape)"
   ]
  },
  {
   "cell_type": "code",
   "execution_count": 7,
   "metadata": {
    "id": "CPkp_iUYQ9kR"
   },
   "outputs": [],
   "source": [
    "# Normal equation solver that takes matrix X and target vector y and returns the optimized weights\n",
    "def nsolve(X, y):\n",
    "    inverse = np.linalg.pinv(X.transpose() @ X)\n",
    "    W_opt = inverse @ X.transpose() @ y\n",
    "    return W_opt"
   ]
  },
  {
   "cell_type": "markdown",
   "metadata": {
    "id": "schr9KYgPMAL"
   },
   "source": [
    "**Question 1b: Implement lineFit(X,y) which should fit a linear function to the input data. Test your implementation on the following task: predict with linear fitting the petal length (cm) of the Iris dataset using the three remaining variables as inputs (sepal length (cm), sepal width (cm) and petal width (cm)). Report the L2 loss on the validation set and plot a graph showing the correlation between y and your prediction on the validation set (2 points)**"
   ]
  },
  {
   "cell_type": "code",
   "execution_count": 8,
   "metadata": {
    "colab": {
     "base_uri": "https://localhost:8080/",
     "height": 312
    },
    "id": "IFdZ4a4Uqtvy",
    "outputId": "975ec525-a3de-4a4a-f062-37813292d5fe"
   },
   "outputs": [
    {
     "data": {
      "image/png": "[encoded data removed]",
      "text/plain": [
       "<Figure size 432x288 with 1 Axes>"
      ]
     },
     "metadata": {
      "needs_background": "light",
      "tags": []
     },
     "output_type": "display_data"
    },
    {
     "name": "stdout",
     "output_type": "stream",
     "text": [
      "L2 Loss is: 0.14800261232027576\n"
     ]
    }
   ],
   "source": [
    "# Linear fit, fits a linear line to the input data\n",
    "\n",
    "def lineFit(X, y):\n",
    "    X_aug = augmentMatrix(X)\n",
    "    W_opt = nsolve(X_aug,y)\n",
    "    return W_opt\n",
    "\n",
    "def augmentMatrix(X):\n",
    "    bias = np.ones((X.shape[0], 1), dtype=X.dtype) # this is to train b/c\n",
    "    X_augmented_train = np.hstack((X, bias))\n",
    "    return X_augmented_train\n",
    "\n",
    "def test_lineFit(X, W):\n",
    "    # new y vector\n",
    "    X_aug = augmentMatrix(X)\n",
    "    y = X_aug[:,2]\n",
    "    new_X = X_aug\n",
    "    new_X = np.delete(new_X, 2, axis=1)\n",
    "\n",
    "    yPredict = new_X @ W\n",
    "    plot_prediction(yPredict, y)\n",
    "    loss = l2_loss(yPredict, y)\n",
    "    print(f\"L2 Loss is: {loss}\")\n",
    "\n",
    "def l2_loss(yPredict, yActual):\n",
    "    n = len(yPredict)\n",
    "    vector_loss = (1/n) * np.sum(np.square(yPredict - yActual))\n",
    "    return vector_loss\n",
    "\n",
    "def plot_prediction(yPredict, yActual):\n",
    "    plt.scatter(yPredict, yActual)\n",
    "    plt.xlabel('Predicted Petal Length')\n",
    "    plt.ylabel('Actual Petal Length')\n",
    "    plt.title('Correlation between the prediction and actual petal')\n",
    "    plt.show()\n",
    "\n",
    "# Reduce for training\n",
    "y_petal_train = X_iris_train[:,2]\n",
    "x_petal_train = X_iris_train\n",
    "x_petal_train = np.delete(x_petal_train, 2, axis=1)\n",
    "\n",
    "weights = lineFit(x_petal_train, y_petal_train)\n",
    "test_lineFit(X_iris_val, weights)"
   ]
  },
  {
   "cell_type": "markdown",
   "metadata": {
    "id": "nsNMgHMaPoQ8"
   },
   "source": [
    "***Question 1c: Implement polyFit(X,y) which should fit a 2 nd degree polynomial to the input data. Test your implementation on the following task: predict with the polynomial the petal width (cm) of the Iris dataset using the three remaining variables as inputs (sepal length (cm), sepal width (cm), petal length (cm), petal width (cm)). The 2 nd degree polynomial should consider all possible pairwise terms, i.e. w 1 x 2 + w 2 xy + w 3 y 2 + w 4 x + w 5 y + w 6 in the case of two input variables x and y. Report the L2 loss on the validation set and plot a graph showing the correlation between y and your prediction on the validation set (3 points)***"
   ]
  },
  {
   "cell_type": "code",
   "execution_count": 9,
   "metadata": {
    "colab": {
     "base_uri": "https://localhost:8080/",
     "height": 347
    },
    "id": "TmEohw6wazL4",
    "outputId": "df7d25f2-1504-4d05-ae1a-2b4f987d70a8"
   },
   "outputs": [
    {
     "name": "stdout",
     "output_type": "stream",
     "text": [
      "[-1.1598299  -1.1598299  -1.1598299   0.63452087  0.78425587  0.49993117\n",
      " -0.07611716 -0.08181011  0.00694009]\n"
     ]
    },
    {
     "data": {
      "image/png": "[encoded data removed]",
      "text/plain": [
       "<Figure size 432x288 with 1 Axes>"
      ]
     },
     "metadata": {
      "needs_background": "light",
      "tags": []
     },
     "output_type": "display_data"
    },
    {
     "name": "stdout",
     "output_type": "stream",
     "text": [
      "L2 Loss is: 0.06361173305051351\n"
     ]
    }
   ],
   "source": [
    "from numpy import matmul\n",
    "from numpy.linalg import inv\n",
    "from numpy.random import rand\n",
    "\n",
    "def plot_poly_prediction(yPredict, yActual):\n",
    "    plt.scatter(yPredict, yActual)\n",
    "    plt.xlabel('Predicted Petal Width')\n",
    "    plt.ylabel('Actual Petal Width')\n",
    "    plt.title('Correlation between the prediction and actual petal')\n",
    "    plt.show()\n",
    "\n",
    "def polyFit(X,y):\n",
    "    # this should get the pair wise polynomials\n",
    "    x_1 = np.ones(X.shape)\n",
    "    x_squared = X ** 2\n",
    "    X_stacked = np.column_stack([x_1, X, x_squared])\n",
    "    W_opt_star = nsolve(X_stacked, y)\n",
    "\n",
    "    return W_opt_star\n",
    "\n",
    "def test_polyFit(X, W):\n",
    "    y = X[:,3]\n",
    "    new_X = X\n",
    "    new_X = np.delete(new_X, 3, axis=1)\n",
    "\n",
    "    x_1 = np.ones(new_X.shape)\n",
    "    x_squared = new_X ** 2\n",
    "    X_stacked = np.column_stack([x_1, new_X, x_squared])\n",
    "\n",
    "    poly_Y = X_stacked @ W\n",
    "    plot_poly_prediction(poly_Y, y)\n",
    "    loss = l2_loss(poly_Y, y)\n",
    "    print(f\"L2 Loss is: {loss}\")\n",
    "\n",
    "# Reduce for training\n",
    "y_petal_train = X_iris_train[:,3]\n",
    "x_petal_train = X_iris_train\n",
    "x_petal_train = np.delete(x_petal_train, 3, axis=1)\n",
    "\n",
    "weights = polyFit(x_petal_train, y_petal_train)\n",
    "print(weights)\n",
    "test_polyFit(X_iris_val, weights)"
   ]
  },
  {
   "cell_type": "markdown",
   "metadata": {
    "id": "AFdER45yQUQX"
   },
   "source": [
    "## Clustering (14 points)\n"
   ]
  },
  {
   "cell_type": "markdown",
   "metadata": {
    "id": "Yi_A6AOIRkFI"
   },
   "source": [
    "***Question 2a: Implement a function pca(X, ndims) that performs PCA over the input data X and returns both the\n",
    "mean vector X̄ and the ndims top components. The top components are the eigen vectors linked to\n",
    "the top eigen values computed from the covariance matrix. Try your function on the MNIST dataset,\n",
    "which is composed of 10 digit classes. Display the top 10 components fitted on the train dataset as\n",
    "images and check that you can reconstruct perfectly an input digit from the validation set using all\n",
    "components (7 points)***"
   ]
  },
  {
   "cell_type": "code",
   "execution_count": 10,
   "metadata": {
    "colab": {
     "base_uri": "https://localhost:8080/",
     "height": 870
    },
    "id": "WhfpJuj8PIOp",
    "outputId": "123be059-fa24-41c1-bc32-002b119ab33b"
   },
   "outputs": [
    {
     "name": "stderr",
     "output_type": "stream",
     "text": [
      "/usr/local/lib/python3.6/dist-packages/ipykernel_launcher.py:44: UserWarning: Casting complex values to real discards the imaginary part (Triggered internally at  /pytorch/aten/src/ATen/native/Copy.cpp:162.)\n"
     ]
    },
    {
     "data": {
      "image/png": "[encoded data removed]",
      "text/plain": [
       "<Figure size 864x576 with 10 Axes>"
      ]
     },
     "metadata": {
      "needs_background": "light",
      "tags": []
     },
     "output_type": "display_data"
    },
    {
     "data": {
      "image/png": "[encoded data removed]",
      "text/plain": [
       "<Figure size 864x576 with 1 Axes>"
      ]
     },
     "metadata": {
      "needs_background": "light",
      "tags": []
     },
     "output_type": "display_data"
    }
   ],
   "source": [
    "# Perform dimensionality reduction on X using Principle component analysis\n",
    "def get_top_k_components(eigenVectors, k):\n",
    "  # get indices of largest 10 eigen values\n",
    "  # return the eigenvectors that correspond to these indices)\n",
    "    return eigenVectors[0:k]\n",
    "\n",
    "def pca(X, ndims):\n",
    "  # return mean vector X_mean and ndims top components\n",
    "    X_mean = np.mean(X, axis=0)\n",
    "    centered_X_mean = X - X_mean\n",
    "    covariance_X = np.cov(centered_X_mean.T)\n",
    "    values, vectors = np.linalg.eig(covariance_X)\n",
    "\n",
    "    # sort eigenvectors\n",
    "    vectors = vectors.T\n",
    "    idxs = np.argsort(values)[::-1]\n",
    "    values = values[idxs]\n",
    "    vectors = vectors[idxs]\n",
    "\n",
    "    return X_mean, vectors\n",
    "\n",
    "def project_pca(X, X_mean, components):\n",
    "    X = X - X_mean\n",
    "    return np.dot(X, components.T)\n",
    "\n",
    "def reconstruct(projected, mean_vector, components):\n",
    "    validation_X = np.dot(projected, components)\n",
    "    validation_X = validation_X + mean_vector\n",
    "    return validation_X\n",
    "\n",
    "def test_pca(X_mean, eigenVectors, ndims=None):\n",
    "    #X_mean, eigenVectors = pca(X_mnist_train, ndims)\n",
    "    n_components = get_top_k_components(eigenVectors, 10)\n",
    "    display_mnist(n_components)\n",
    "\n",
    "def test_pca_on_val(eigenVectors, mean, X):\n",
    "    n_components = get_top_k_components(eigenVectors, 784)\n",
    "    projected = project_pca(X, mean, n_components)\n",
    "    reconstructed_X = reconstruct(projected, mean, n_components)\n",
    "    dispay_val_mnist(reconstructed_X[0])\n",
    "\n",
    "def display_mnist(sample):\n",
    "    # have to conver to torch so you can draw\n",
    "    sample = torch.tensor(sample, dtype=torch.float32)\n",
    "    plt.figure(figsize=(12,8))\n",
    "    length = sample.shape[0]\n",
    "    for i in range(length):\n",
    "    ax = plt.subplot(2,5,i+1)\n",
    "    ax.imshow((sample[i]).view(28,28).detach().cpu().numpy(), cmap=\"gray\")\n",
    "    plt.axis('off')\n",
    "    plt.show()\n",
    "\n",
    "def dispay_val_mnist(sample):\n",
    "    sample = torch.tensor(sample, dtype=torch.float32)\n",
    "    plt.figure(figsize=(12,8))\n",
    "    ax = plt.subplot(1,1,1)\n",
    "    ax.imshow((sample).view(28,28).detach().cpu().numpy(), cmap=\"gray\")\n",
    "    plt.axis('off')\n",
    "    plt.show()\n",
    "\n",
    "X_mean, vectors = pca(X_mnist_train, ndims=None)\n",
    "test_pca(X_mean, vectors, ndims=None)\n",
    "\n",
    "# test on vectors given from the pca\n",
    "test_pca_on_val(vectors, X_mean, X_mnist_val)"
   ]
  },
  {
   "cell_type": "markdown",
   "metadata": {
    "id": "0W2tfpQcSLJD"
   },
   "source": [
    "***Question 2b: Perform independent research on the clustering algorithm k-means. Implement a function kmeans\n",
    "performing k-means on input data X. Propose the interface to that function (i.e., what is its input and\n",
    "output?) and write in three sentences why this is. Apply you Kmeans implementation on the MNIST\n",
    "training set with k = 10 clusters and display the centroids as images (5 points).***"
   ]
  },
  {
   "cell_type": "code",
   "execution_count": 11,
   "metadata": {
    "id": "Q1eDsz8KpgZp"
   },
   "outputs": [],
   "source": [
    "np.random.seed(42)\n",
    "\n",
    "def euclidean_distance(x1, x2):\n",
    "    return np.sqrt(np.sum((x1 - x2)**2))\n",
    "\n",
    "def kmeans(X, k, max_iter):\n",
    "    centroids = get_centroids(X, k)\n",
    "    clusters = [[] for i in range(k)]\n",
    "    counter = 0\n",
    "    for i in range(max_iter):\n",
    "    clusters = get_best_cluster(X, centroids, k)\n",
    "    centroids = update_centroid(clusters, k, X)\n",
    "    return centroids\n",
    "\n",
    "def get_centroids(X, k):\n",
    "    indices = np.random.choice(X.shape[0], k, replace=False)\n",
    "    centroids = [X[idx] for idx in indices]\n",
    "    return centroids\n",
    "\n",
    "def get_best_cluster(X, centroids, k):\n",
    "    clusters = [[] for _ in range(k)]\n",
    "    for idx, sample in enumerate(X):\n",
    "    centroidIdx = closestCentroid(sample, centroids)\n",
    "    clusters[centroidIdx].append(idx)\n",
    "    return clusters\n",
    "\n",
    "def closestCentroid(sample, centroids):\n",
    "    distances = [euclidean_distance(sample, point) for point in centroids]\n",
    "    closestIdx = np.argmin(distances)\n",
    "    return closestIdx\n",
    "\n",
    "def update_centroid(clusters, k, X):\n",
    "    centroids = np.zeros((k, X.shape[1]))\n",
    "    for clusterIdx, cluster in enumerate(clusters):\n",
    "    cluster_mean = np.mean(X[cluster], axis=0)\n",
    "    centroids[clusterIdx] = cluster_mean\n",
    "    return centroids\n",
    "\n",
    "def plot_kmeans(centroids):\n",
    "    plt.figure(figsize=(12,8))\n",
    "    for i, centroid in enumerate(centroids):\n",
    "    centroid = torch.tensor(centroid, dtype=torch.float32)\n",
    "    ax = plt.subplot(2,5,i+1)\n",
    "    ax.imshow(centroid.view(28,28).detach().cpu().numpy(),cmap=\"gray\")\n",
    "    plt.axis('off')\n",
    "    plt.show()"
   ]
  },
  {
   "cell_type": "code",
   "execution_count": 12,
   "metadata": {
    "colab": {
     "base_uri": "https://localhost:8080/",
     "height": 384
    },
    "id": "avXvv3okpxAk",
    "outputId": "603c7d04-ab64-4459-add8-381c24bf7ded"
   },
   "outputs": [
    {
     "data": {
      "image/png": "[encoded data removed]",
      "text/plain": [
       "<Figure size 864x576 with 10 Axes>"
      ]
     },
     "metadata": {
      "needs_background": "light",
      "tags": []
     },
     "output_type": "display_data"
    }
   ],
   "source": [
    "centroids = kmeans(X_mnist_train, k=10, max_iter=50)\n",
    "plot_kmeans(centroids)"
   ]
  },
  {
   "cell_type": "markdown",
   "metadata": {
    "id": "eNG0jaaFUuC_"
   },
   "source": [
    "The input parameters of my function are X, k and max_iter, and the output are my centroids. Input k is needed because it determines the number of clusters I need to create, and thus affects the number of centroids I get as my output. Max iterations is also needed as an input because I perform an iterative optimization to update cluster centers, the centroids, to get better resulting classifications. And finally, X is my actual training data needed my functon divides and clusters together."
   ]
  },
  {
   "cell_type": "markdown",
   "metadata": {
    "id": "0Ms12tLDSsPD"
   },
   "source": [
    "***Question 2c: Describe the k-means algorithm, highlighting similarities and differences from KNN. Compare the\n",
    "reconstruction loss on the validation set for both k-means and PCA. Write no more than a third of a\n",
    "page. (2 points)***"
   ]
  },
  {
   "cell_type": "markdown",
   "metadata": {
    "id": "2nODLGcWSz24"
   },
   "source": [
    "The k-means and KNN are both clustering algorithms however kNN is an unsupervised algorithm, whilst KNN is supervised. As a result, k-means realises on the dynamics of the features to make inferences on unseen data. We begin k-means by choosing k centroids and then we iteratively change the positions to the average location of the data points each point was assigned to. We continue doing this until the average location of the centroid doesn't change much. Similarly, KNN is affected by data surrounding data but the k represents the number of closest neighbours it looks for, from a classification point. Also, KNN stops optimization when all observations have been classified to a desired accuracy, k-means does not follow this performance measure.\n",
    "\n",
    "Regarding the reconstruction loss on the validation set for both k-means and PCA, based on what I can see it appears as though k-means is able to reconstruct images more accurately because they are less pixelated. This may be due to the continuous nature of he k-means algorithm, it continues to find a centroid until it is the best it can be rather than the direct projection of points PCA carries out."
   ]
  },
  {
   "cell_type": "markdown",
   "metadata": {
    "id": "BwE31hE1QXSX"
   },
   "source": [
    "# Linear Classification (26 points)\n"
   ]
  },
  {
   "cell_type": "markdown",
   "metadata": {
    "id": "OK9tUv27Wthd"
   },
   "source": [
    "***Question 3a: Implement the normal equation-based binary linear classifier lclass(examplesA, examplesB, testExample)\n",
    "where the first two arguments are the set of samples from class A and class B respectively and the third\n",
    "is the test. The function should return 0 if test is in A and 1 otherwise. It should, for simplicity, both\n",
    "train and test in one function call. (5 points)***"
   ]
  },
  {
   "cell_type": "code",
   "execution_count": 13,
   "metadata": {
    "id": "GH6nTyZ9dIBO"
   },
   "outputs": [],
   "source": [
    "def lclass(examplesA, examplesB, testExample):\n",
    "  # train with A + B, use test Example to test\n",
    "\n",
    "    labeled_A = np.hstack((examplesA, np.zeros((examplesA.shape[0], 1), dtype=examplesA.dtype)))\n",
    "    labeled_B = np.hstack((examplesB, np.ones((examplesB.shape[0], 1), dtype=examplesA.dtype)))\n",
    "\n",
    "    new_matrix = np.concatenate((labeled_A,labeled_B), axis=0)\n",
    "\n",
    "    X = new_matrix[:,0:-1]\n",
    "    y_train = new_matrix[:,-1:]\n",
    "\n",
    "    W_opt = lineFit(X, y_train)\n",
    "\n",
    "    testExample = augmentMatrix(testExample)\n",
    "    yPredict = ((np.dot(testExample, W_opt) > 0.5).astype(np.int64))\n",
    "    return yPredict"
   ]
  },
  {
   "cell_type": "markdown",
   "metadata": {
    "id": "V0cvLBhFdL8l"
   },
   "source": [
    "***Question 3b: Test this on all the samples in Iris, Setosa vs non-Setosa, etc and propose a simple analysis (text,\n",
    "figure, table) of the result you find, but not longer than the third of a page. (6 points)***"
   ]
  },
  {
   "cell_type": "code",
   "execution_count": 14,
   "metadata": {
    "id": "ZzGzliBG0zJi"
   },
   "outputs": [],
   "source": [
    "# Performance Measure\n",
    "def accuracy(Y_test, y_pred):\n",
    "    \n",
    "    accuracy = np.sum(Y_test == y_pred)\n",
    "    accuracy /= Y_test.shape[0]\n",
    "    \n",
    "    return accuracy\n",
    "\n",
    "def precision(Y_test, y_pred):\n",
    "    \n",
    "    mask = (Y_test == 1)\n",
    "    \n",
    "    precision = np.sum(Y_test[mask] == y_pred[mask])\n",
    "    precision /= np.sum(mask.astype(np.float64))\n",
    "    \n",
    "    return precision\n",
    "\n",
    "def true_positive(Y_test, y_pred):\n",
    "    mask = (Y_test == 1)\n",
    "    \n",
    "    tp = (Y_test[mask] == y_pred[mask]).sum()\n",
    "    \n",
    "    return tp.item()\n",
    "\n",
    "def true_negative(Y_test, y_pred):\n",
    "    mask = (Y_test == 0) | (Y_test == -1)\n",
    "    \n",
    "    tn = (Y_test[mask] == y_pred[mask]).sum()\n",
    "    \n",
    "    return tn.item()\n",
    "\n",
    "def false_negative(Y_test, y_pred):\n",
    "    mask = (y_pred == 0) | (y_pred == -1)\n",
    "    \n",
    "    tn = (Y_test[mask] != y_pred[mask]).sum()\n",
    "    \n",
    "    return tn.item()\n",
    "\n",
    "def false_positive(Y_test, y_pred):\n",
    "    mask = (y_pred == 1)\n",
    "    \n",
    "    tn = (Y_test[mask] != y_pred[mask]).sum()\n",
    "    \n",
    "    return tn.item()\n",
    "\n",
    "def plot_confusion_matrix(Y_test, y_pred):\n",
    "    tp = true_positive(Y_test, y_pred)\n",
    "    tn = true_negative(Y_test, y_pred)\n",
    "    fp = false_positive(Y_test, y_pred)\n",
    "    fn = false_negative(Y_test, y_pred)\n",
    "\n",
    "    cf = np.array([[tn, fn], [fp, tp]])\n",
    "\n",
    "    fig, ax = plt.subplots()\n",
    "\n",
    "    ax.matshow(cf, cmap=plt.cm.Blues)\n",
    "\n",
    "    for i in range(2):\n",
    "        for j in range(2):\n",
    "            c = cf[j,i]\n",
    "            ax.text(i, j, str(c), va='center', ha='center')\n",
    "\n",
    "    plt.xlabel('Prediction')\n",
    "    plt.ylabel('Target')\n",
    "    plt.show()"
   ]
  },
  {
   "cell_type": "code",
   "execution_count": 15,
   "metadata": {
    "colab": {
     "base_uri": "https://localhost:8080/",
     "height": 1000
    },
    "id": "pGTaSNHzIx2s",
    "outputId": "9740af4d-9b13-4aae-da75-b51893b442b1"
   },
   "outputs": [
    {
     "name": "stdout",
     "output_type": "stream",
     "text": [
      "Setosa vs None Setosa\n",
      "\n"
     ]
    },
    {
     "data": {
      "image/png": "[encoded data removed]",
      "text/plain": [
       "<Figure size 432x288 with 1 Axes>"
      ]
     },
     "metadata": {
      "needs_background": "light",
      "tags": []
     },
     "output_type": "display_data"
    },
    {
     "name": "stdout",
     "output_type": "stream",
     "text": [
      "The precision is: 1.0\n",
      "The accuracy is: 1.0\n",
      "\n",
      "Versicolor vs None Versicolor\n",
      "\n"
     ]
    },
    {
     "data": {
      "image/png": "[encoded data removed]",
      "text/plain": [
       "<Figure size 432x288 with 1 Axes>"
      ]
     },
     "metadata": {
      "needs_background": "light",
      "tags": []
     },
     "output_type": "display_data"
    },
    {
     "name": "stdout",
     "output_type": "stream",
     "text": [
      "The precision is: 0.8\n",
      "The accuracy is: 0.5333333333333333\n",
      "\n",
      "Virginica vs None Virginica\n",
      "\n"
     ]
    },
    {
     "data": {
      "image/png": "[encoded data removed]",
      "text/plain": [
       "<Figure size 432x288 with 1 Axes>"
      ]
     },
     "metadata": {
      "needs_background": "light",
      "tags": []
     },
     "output_type": "display_data"
    },
    {
     "name": "stdout",
     "output_type": "stream",
     "text": [
      "The precision is: 1.0\n",
      "The accuracy is: 0.6666666666666666\n",
      "\n"
     ]
    }
   ],
   "source": [
    "def test_linear_classifier(X_iris_train, Y_iris_train, X_iris_val, Y_iris_val):\n",
    "    # For Setosa vs None Setosa\n",
    "    print('Setosa vs None Setosa\\n')\n",
    "    a_indexes = np.where(Y_iris_train == 0)\n",
    "    class_A = X_iris_train[a_indexes]\n",
    "\n",
    "    b_indexes = np.where(Y_iris_train != 0)\n",
    "    class_B = X_iris_train[b_indexes]\n",
    "\n",
    "    yPredict = lclass(class_A, class_B, X_iris_val)\n",
    "    yActual = Y_iris_val.reshape(yPredict.shape)\n",
    "    yActual = np.where(yActual==2, 1, yActual)\n",
    "\n",
    "    plot_confusion_matrix(yActual, yPredict)\n",
    "\n",
    "    prec = precision(yActual, yPredict)\n",
    "\n",
    "    acc = accuracy(yActual, yPredict)\n",
    "\n",
    "    print('The precision is: {}'.format(prec))\n",
    "    print('The accuracy is: {}\\n'.format(acc))\n",
    "\n",
    "\n",
    "    # For Versicolor vs None Versicolor\n",
    "    print('Versicolor vs None Versicolor\\n')\n",
    "    a_indexes = np.where(Y_iris_train == 1)\n",
    "    class_A = X_iris_train[a_indexes]\n",
    "\n",
    "    b_indexes = np.where(Y_iris_train != 1)\n",
    "    class_B = X_iris_train[b_indexes]\n",
    "\n",
    "    yPredict = lclass(class_A, class_B, X_iris_val)\n",
    "    yActual = Y_iris_val.reshape(yPredict.shape)\n",
    "    yActual = np.where(yActual==2, 1, yActual)\n",
    "\n",
    "    plot_confusion_matrix(yActual, yPredict)\n",
    "\n",
    "    prec = precision(yActual, yPredict)\n",
    "\n",
    "    acc = accuracy(yActual, yPredict)\n",
    "\n",
    "    print('The precision is: {}'.format(prec))\n",
    "    print('The accuracy is: {}\\n'.format(acc))\n",
    "\n",
    "    # For Virginica vs None Virginica\n",
    "    print('Virginica vs None Virginica\\n')\n",
    "    a_indexes = np.where(Y_iris_train == 2)\n",
    "    class_A = X_iris_train[a_indexes]\n",
    "\n",
    "    b_indexes = np.where(Y_iris_train != 2)\n",
    "    class_B = X_iris_train[b_indexes]\n",
    "\n",
    "    yPredict = lclass(class_A, class_B, X_iris_val)\n",
    "    yActual = Y_iris_val.reshape(yPredict.shape)\n",
    "    yActual = np.where(yActual==2, 0, yActual)\n",
    "\n",
    "    plot_confusion_matrix(yActual, yPredict)\n",
    "\n",
    "    prec = precision(yActual, yPredict)\n",
    "\n",
    "    acc = accuracy(yActual, yPredict)\n",
    "\n",
    "    print('The precision is: {}'.format(prec))\n",
    "    print('The accuracy is: {}\\n'.format(acc))\n",
    "\n",
    "test_linear_classifier(X_iris_train, Y_iris_train, X_iris_val, Y_iris_val)\n"
   ]
  },
  {
   "cell_type": "markdown",
   "metadata": {
    "id": "4tPSTtKneUrN"
   },
   "source": [
    "From the confusion matrices I have plotted I can see that my model is able to classify Setosa vs Non-Setosa irises with a 100% accuracy. Versicolor vs Non-Versicolor with an accuracy of 53% and precision of 80%, the disparity between accuracy and precision here leads me to believe they're many false-positives and miscalculations, but data points of the same group are being classified well. Similiarly, Virginica vs. Non Virginica also has a high precision but a lower accuracy, at 66%."
   ]
  },
  {
   "cell_type": "markdown",
   "metadata": {
    "id": "fHwRygbqdiUR"
   },
   "source": [
    "***Question 3c: Perform independent research how to do multi-class classification. Implement lmclass(examples,\n",
    "class, testExample) that performs multi-class classification of the examples examples according\n",
    "to the vector of labels class of the same size and tests it with testExample by returning the vector\n",
    "probability of being class i. (10 points)***"
   ]
  },
  {
   "cell_type": "code",
   "execution_count": 16,
   "metadata": {
    "id": "3FjbiaN18h35"
   },
   "outputs": [],
   "source": [
    "# Using one vs. all + linear classification\n",
    "def lmclass(examples, classes, testExample):\n",
    "    result = []\n",
    "    for label in np.unique(classes):\n",
    "    probabilities = get_probabilities(examples, classes, label, testExample)\n",
    "    result.append(probabilities)\n",
    "    return np.array(result).T\n",
    "    # the one with the highest probability\n",
    "\n",
    "def get_probabilities(examples, classes, label, testExample):\n",
    "    y = one_v_all(classes, label)\n",
    "    W_opt = lineFit(examples, y)\n",
    "    testExample = augmentMatrix(testExample)\n",
    "    probabilities = np.dot(testExample, W_opt)\n",
    "    return probabilities\n",
    "\n",
    "def one_v_all(classes, label):\n",
    "    if label == 0:\n",
    "    classes = np.where(classes!=0, 5, classes)\n",
    "    classes = np.where(classes==0, 1, classes)\n",
    "    classes = np.where(classes==5, 0, classes)\n",
    "    if label == 1:\n",
    "    classes = np.where(classes!=1, 5, classes)\n",
    "    classes = np.where(classes==5, 0, classes)\n",
    "    if label == 2:\n",
    "    classes = np.where(classes!=2, 5, classes)\n",
    "    classes = np.where(classes==5, 0, classes)\n",
    "    classes = np.where(classes==2, 1, classes)\n",
    "    return classes"
   ]
  },
  {
   "cell_type": "markdown",
   "metadata": {
    "id": "CMR_aN2Ad2lM"
   },
   "source": [
    "***Question 3d: Present findings applying multi-class classification on Iris dataset with 3 classes. You can include\n",
    "figures and tables if needed. Write no longer than third of a page. (5 points)***"
   ]
  },
  {
   "cell_type": "code",
   "execution_count": 17,
   "metadata": {
    "colab": {
     "base_uri": "https://localhost:8080/",
     "height": 331
    },
    "id": "OkinOnmxdzr8",
    "outputId": "b180eb71-168a-4af8-f985-8d3d442b9fb9"
   },
   "outputs": [
    {
     "data": {
      "image/png": "[encoded data removed]",
      "text/plain": [
       "<Figure size 432x288 with 1 Axes>"
      ]
     },
     "metadata": {
      "needs_background": "light",
      "tags": []
     },
     "output_type": "display_data"
    },
    {
     "name": "stdout",
     "output_type": "stream",
     "text": [
      "The precision is: 0.6666666666666666\n",
      "The accuracy is: 0.8666666666666667\n",
      "\n"
     ]
    }
   ],
   "source": [
    "def test_probabilities(probabilities, Y_iris_val):\n",
    "    yPredict = []\n",
    "    yActual = Y_iris_val\n",
    "    for x in probabilities:\n",
    "    largest = np.where(x == np.amax(x))\n",
    "    yPredict = np.append(yPredict, largest)\n",
    "\n",
    "    plot_confusion_matrix(yActual, yPredict)\n",
    "\n",
    "    prec = precision(yActual, yPredict)\n",
    "\n",
    "    acc = accuracy(yActual, yPredict)\n",
    "\n",
    "    print('The precision is: {}'.format(prec))\n",
    "    print('The accuracy is: {}\\n'.format(acc))\n",
    "\n",
    "# test on iris dataset\n",
    "examples = X_iris_train\n",
    "labels = Y_iris_train\n",
    "testExample = X_iris_val\n",
    "\n",
    "probabilities = lmclass(examples, labels, testExample)\n",
    "test_probabilities(probabilities, Y_iris_val)"
   ]
  },
  {
   "cell_type": "markdown",
   "metadata": {
    "id": "ohHUDM-eeMiX"
   },
   "source": [
    "By applying multi-class classification on Iris dataset with 3 classes, my model has a very high accuracy a 87% but a lower precision at 67%. This leads me to believe that it is finding it harder to group unseen data from similar classes together, but when data points are compleely different it performs much better at tha task."
   ]
  },
  {
   "cell_type": "markdown",
   "metadata": {
    "id": "z8FyxD3bQatA"
   },
   "source": [
    "# Non-linear Classification (25 points)\n"
   ]
  },
  {
   "cell_type": "markdown",
   "metadata": {
    "id": "zzCMf3_nl8Mm"
   },
   "source": [
    "***Question 4a: Implement classification based on logistic regression using GD by implementing the gradient function\n",
    "deLogistic(preds, X, Y) and optimizing using GD. preds are the prediction from the model, X are\n",
    "the data and Y are the labels. (5 points)***"
   ]
  },
  {
   "cell_type": "code",
   "execution_count": 18,
   "metadata": {
    "colab": {
     "base_uri": "https://localhost:8080/",
     "height": 600
    },
    "id": "RegP7K9WwNTc",
    "outputId": "dc68bbe4-b6ef-40be-dad9-bfcdcccd8f2f"
   },
   "outputs": [
    {
     "name": "stdout",
     "output_type": "stream",
     "text": [
      "[1 1 1 0 1 1 1 0 1 1 1 1 1 1 1 0 0 1 1 0 0 1 1 1 1 1 1 0 1 0 1 1 0 1 0 0 1\n",
      " 0 1 1 1 0 0 0 0 1 0 0 1 1 1 0 1 1 1 1 1 1 1 1 1 0 0 0 1 0 0 0 1 1 1 1 1 1\n",
      " 1 0 0 1 1 0 1 1 1 1 1 1 1 1 1 1 0 1 0 1 0 0]\n",
      "[01000] current loss: 0.12388691937019344\n",
      "[02000] current loss: 0.06854319585769045\n",
      "[03000] current loss: 0.04780184563034654\n",
      "[04000] current loss: 0.03691440267410737\n",
      "[05000] current loss: 0.030183961860789234\n",
      "[06000] current loss: 0.025599159256366372\n",
      "[07000] current loss: 0.02226822832713332\n",
      "[08000] current loss: 0.019734647126908138\n",
      "[09000] current loss: 0.017740196254965167\n",
      "[10000] current loss: 0.016127682210178993\n"
     ]
    },
    {
     "data": {
      "image/png": "[encoded data removed]",
      "text/plain": [
       "<Figure size 576x432 with 1 Axes>"
      ]
     },
     "metadata": {
      "needs_background": "light",
      "tags": []
     },
     "output_type": "display_data"
    }
   ],
   "source": [
    "def trainLogisticClassifier(X, Y, W, loss_function, gradient, step_size, max_it):\n",
    "    checkpoint_step = int(max_it / 10)\n",
    "\n",
    "    best_loss = float('+inf')\n",
    "    best_W = None\n",
    "\n",
    "    history = []\n",
    "    for it in range(max_it):\n",
    "    z = np.dot(X, W)\n",
    "    prediction = sigmoid(z)\n",
    "\n",
    "    loss = cross_entropy_loss(prediction, Y)\n",
    "\n",
    "    if loss < best_loss:\n",
    "        best_w = W\n",
    "\n",
    "    J = deLogistic(prediction, X, Y)\n",
    "    W = W - step_size * J\n",
    "\n",
    "    history.append(loss)\n",
    "\n",
    "    if (it + 1) % checkpoint_step == 0:\n",
    "        print('[{:05}] current loss: {}'.format(it+1, loss))\n",
    "\n",
    "    return history, best_w\n",
    "\n",
    "def cross_entropy_loss(preds, targets):\n",
    "    cost = float('+inf')\n",
    "    n = preds.shape[0]\n",
    "    cost = (-1/n) * ( (targets.transpose() @ np.log(preds)) + (((1 - targets).transpose()) @ np.log(1 - preds)))\n",
    "    return cost\n",
    "\n",
    "def sigmoid(z):\n",
    "    return 1.0 / (1 + np.exp(-z))\n",
    "  \n",
    "def deLogistic(preds, X, Y):\n",
    "    # preds are the prediction the model, X are the data and Y are the labels\n",
    "    n = preds.shape[0]\n",
    "    J = (1/n) * ((X.transpose()) @ (preds - Y))\n",
    "    return J\n",
    "\n",
    "def plot_loss(logs):\n",
    "    fig = plt.figure(figsize=(8, 6))\n",
    "    plt.plot(logs)\n",
    "    plt.show()\n",
    "\n",
    "# Doing a logistic regression to classify Setosa vs Non Setosa\n",
    "\n",
    "X = X_iris_train\n",
    "x_train = np.hstack((X, np.ones((X.shape[0],1))))\n",
    "\n",
    "Y = Y_iris_train\n",
    "y_train = Y\n",
    "y_train = np.where(y_train==2, 1, y_train)\n",
    "# y_train = np.where(y_train==0, -1, y_train)\n",
    "\n",
    "print(y_train)\n",
    "\n",
    "#X /= 16\n",
    "\n",
    "W = np.random.uniform(-1,1,size=(x_train.shape[1]))\n",
    "\n",
    "step_size = 1\n",
    "max_it = 10000\n",
    "\n",
    "history, W_opt = trainLogisticClassifier(x_train/16, y_train, W, cross_entropy_loss, deLogistic, step_size, max_it)\n",
    "\n",
    "plot_loss(history)"
   ]
  },
  {
   "cell_type": "code",
   "execution_count": 19,
   "metadata": {
    "colab": {
     "base_uri": "https://localhost:8080/",
     "height": 279
    },
    "id": "LiFvXuNp0v4J",
    "outputId": "9bd1f808-869b-4aef-babb-1724c21c5b6c"
   },
   "outputs": [
    {
     "data": {
      "image/png": "[encoded data removed]",
      "text/plain": [
       "<Figure size 432x288 with 1 Axes>"
      ]
     },
     "metadata": {
      "needs_background": "light",
      "tags": []
     },
     "output_type": "display_data"
    }
   ],
   "source": [
    "# Test the predictions with a confusion matrix\n",
    "\n",
    "z = np.dot(x_train, W_opt)\n",
    "preds = sigmoid(z)\n",
    "\n",
    "bool_preds = preds > 0.5 # where predictions are 1, so are non-semotosa\n",
    "\n",
    "y_pred_train = bool_preds.astype(int)\n",
    "\n",
    "X = X_iris_val\n",
    "x_test = np.hstack((X, np.ones((X.shape[0],1))))\n",
    "\n",
    "z = np.dot(x_test, W_opt)\n",
    "preds = sigmoid(z)\n",
    "\n",
    "bool_preds = preds > 0.5\n",
    "y_pred_test = bool_preds.astype(int)\n",
    "\n",
    "plot_confusion_matrix(y_train, y_pred_train)"
   ]
  },
  {
   "cell_type": "code",
   "execution_count": 20,
   "metadata": {
    "colab": {
     "base_uri": "https://localhost:8080/",
     "height": 279
    },
    "id": "xKl0pMkT1Osx",
    "outputId": "a2494990-e939-4cee-b58b-25af7b0a1cee"
   },
   "outputs": [
    {
     "data": {
      "image/png": "[encoded data removed]",
      "text/plain": [
       "<Figure size 432x288 with 1 Axes>"
      ]
     },
     "metadata": {
      "needs_background": "light",
      "tags": []
     },
     "output_type": "display_data"
    }
   ],
   "source": [
    "# Reconfigure the validation test set\n",
    "Y = Y_iris_val\n",
    "y_test = Y\n",
    "y_test = np.where(y_test==2, 1, y_test)\n",
    "\n",
    "plot_confusion_matrix(y_test, y_pred_test)"
   ]
  },
  {
   "cell_type": "markdown",
   "metadata": {
    "id": "wQjE-JwImEvG"
   },
   "source": [
    "***Question b: Implement classification based on hinge loss (5 points) using GD by implementing the gradient function\n",
    "deHinge(preds, W, x, y) and optimizing using GD. preds are the prediction from the model, W\n",
    "describes the model parameters, x is the data and y represent the labels. (5 points)***"
   ]
  },
  {
   "cell_type": "code",
   "execution_count": 21,
   "metadata": {
    "colab": {
     "base_uri": "https://localhost:8080/"
    },
    "id": "cjrQTkDVbOlj",
    "outputId": "a1f786ff-1f0e-4b19-bafb-1d2e26b7fcb0"
   },
   "outputs": [
    {
     "name": "stdout",
     "output_type": "stream",
     "text": [
      "[00099] current loss: 0.03870221354166678\n",
      "[00199] current loss: 0.011798849826388916\n",
      "[00299] current loss: 0.008262890625000291\n",
      "[00399] current loss: 0.005150542534722673\n",
      "[00499] current loss: 0.0033893663194446712\n",
      "[00599] current loss: 0.0028731662326389267\n",
      "[00699] current loss: 0.002581282552083293\n",
      "[00799] current loss: 0.0022893988715276584\n",
      "[00899] current loss: 0.0019975151909720234\n",
      "[00999] current loss: 0.0017057725694441667\n"
     ]
    }
   ],
   "source": [
    "def trainHingeLossClassifier(X, Y, W, loss_function, gradien, step_size, max_it):\n",
    "    checkpoint_step = int(max_it / 10)\n",
    "    \n",
    "    one = np.ones(Y.shape[0])\n",
    "    best_w = np.zeros(W.shape)\n",
    "    best_loss = float('+inf')\n",
    "    \n",
    "    history = []\n",
    "    for it in range(max_it):\n",
    "            \n",
    "        z = np.dot(X, W)\n",
    "\n",
    "        loss = hinge_loss(z, Y)\n",
    "\n",
    "        if loss < best_loss:\n",
    "            best_w = np.copy(W)\n",
    "\n",
    "        J_w = deHinge(z, W, X, Y)\n",
    "\n",
    "        W = W - step_size * J_w\n",
    "\n",
    "        history.append(loss)\n",
    "\n",
    "        if (it + 1) % checkpoint_step == 0:\n",
    "            print('[{:05}] current loss: {}'.format(it, loss))\n",
    "    \n",
    "    return history, best_w\n",
    "\n",
    "def sgn_predict(W, X):\n",
    "    z = np.dot(X, W)\n",
    "    out = np.sign(z)\n",
    "    return out\n",
    "    \n",
    "def deHinge(preds, W, X, Y):\n",
    "    length = len(preds)\n",
    "    values = preds * Y\n",
    "    result = np.zeros(X.shape)\n",
    "    for i in range(length):\n",
    "        for j in range(X.shape[1]):\n",
    "            if values[i] < 1:\n",
    "                result[i][j] = -Y[i] * X[i][j]\n",
    "    result = result.sum(axis=0)/length\n",
    "    return result\n",
    "\n",
    "def hinge_loss(z, Y):\n",
    "    length = len(z)\n",
    "    loss = 1 - (z * Y)\n",
    "    checkMax = np.vectorize(lambda element : max(0.0, element))\n",
    "    return np.sum(checkMax(loss))/length\n",
    "\n",
    "\n",
    "X = X_iris_train\n",
    "x_train = np.hstack((X, np.ones((X.shape[0], 1))))\n",
    "\n",
    "Y = Y_iris_train\n",
    "y_train = Y\n",
    "y_train = np.where(y_train==2, 1, y_train)\n",
    "\n",
    "y_train[y_train == 0] = -1\n",
    "\n",
    "W = np.zeros(x_train.shape[1])\n",
    "\n",
    "C = 1.0 # this is the constan value for SVM?\n",
    "step_size = 0.01\n",
    "max_it = 1000\n",
    "\n",
    "history, W_opt = trainHingeLossClassifier(x_train, y_train, W, hinge_loss, deHinge, step_size, max_it)"
   ]
  },
  {
   "cell_type": "code",
   "execution_count": 22,
   "metadata": {
    "colab": {
     "base_uri": "https://localhost:8080/",
     "height": 374
    },
    "id": "8T6IKlCN-ofb",
    "outputId": "3a6ce6ef-aa82-4ce4-e218-6ace3f3d2237"
   },
   "outputs": [
    {
     "data": {
      "image/png": "[encoded data removed]",
      "text/plain": [
       "<Figure size 576x432 with 1 Axes>"
      ]
     },
     "metadata": {
      "needs_background": "light",
      "tags": []
     },
     "output_type": "display_data"
    }
   ],
   "source": [
    "plot_loss(history)"
   ]
  },
  {
   "cell_type": "markdown",
   "metadata": {
    "id": "EdqhPhfXmnlu"
   },
   "source": [
    "***Question 4c: Implement kernel SVM function ksvm(kernel, x, y, xtest). The function takes as input a kernel,\n",
    "training data and a set of test points. The function returns the set of support vectors along with the\n",
    "predicted labels. You are allowed to use scipy optimization library to solve the quadratic problem of\n",
    "SVM. (10 points)***"
   ]
  },
  {
   "cell_type": "code",
   "execution_count": 23,
   "metadata": {
    "id": "6IbvW5tymqY-"
   },
   "outputs": [],
   "source": [
    "import scipy.optimize.minimize\n",
    "\n",
    "# to get the svm need to compare the different points\n",
    "def getPoints(kernel, X, valid=None):\n",
    "    result = []\n",
    "    if (valid is None):\n",
    "        valid = X\n",
    "    for num in valid:\n",
    "        result.append(np.array([kernel(row, example) for row in X]))\n",
    "    return augmentMatrix(np.array(result))\n",
    "\n",
    "# range from 1 or -1\n",
    "def getPredictions(kernel, X, xtest, W):\n",
    "    xAug = getPoints(kernel, X, valid = xtest)\n",
    "    yPred = np.matmul(xAug, W.x)\n",
    "    yPred[yPred < 0] = -1\n",
    "    yPred[yPred >= 0] = 1\n",
    "    return yPred.astype(np.int64)\n",
    "\n",
    "def getSV(xPoints, W, X):\n",
    "    yT = np.matmul(xPoints, W.x)\n",
    "    yT = np.round(yT, 5)\n",
    "    supportIndex = np.where(np.logical_or(yT == -1, yT == 1))\n",
    "    return X[supportIndex]\n",
    "\n",
    "def gaussianKernel(x, z, sigma=10):\n",
    "    n = x.shape[0]\n",
    "    m = z.shape[0]\n",
    "    xx = np.dot(np.sum(np.power(x, 2), 1).reshape(n, 1), np.ones((1, m)))\n",
    "    zz = np.dot(np.sum(np.power(z, 2), 1).reshape(m, 1), np.ones((1, n)))\n",
    "    return np.expr(-(xx + zz.T - 2 * np.dot(x, z.T)) / (2 * sigma ** 2))\n",
    "\n",
    "# quadratic problem is solved using scipy.minimize.minimize\n",
    "\n",
    "def ksvm(gaussianKernel, x, y, xtest):\n",
    "    x, xtest = normalise(x), normalise(xtest)\n",
    "    xPoints = getPoints(kernel, x)\n",
    "    W = np.random.uniform(-1,1,size=(xPoints.shape[1]))\n",
    "    constraint = lambda W: np.multiply(y, np.matmul(xPoints, W)) - 1\n",
    "    dictContraint = {'type': 'ineq', 'fun': constraint}\n",
    "    W = minimise(svmCot, W, method='SLSQP', constraint=[dictContraint])\n",
    "    yPred = getPrediction(kernel, X, xtest, W)\n",
    "    sv = getSV(xPoints, W, X)\n",
    "    return sv, yPred\n",
    "\n",
    "def normalise(xTrain):\n",
    "    max = np.amax(xTrain, axis=0)\n",
    "    max[max == 0] = 1\n",
    "    return augmentMatrix(xTrain/max)\n",
    "\n",
    "def svmCost(W):\n",
    "    return (np.linalg.norm(W)/2)\n",
    "\n",
    "def make_predictions(sv, sv_y):\n",
    "    b = sv_y - np.sum(gaussianKernel(sv, sv) * alphas * sv_y, axis=0)\n",
    "    b = np.sum(b) / b.size\n",
    "    return b\n",
    "\n",
    "# y = Y_iris_train\n",
    "# X = X_iris_train\n",
    "# xtest = X_iris_val\n",
    "\n",
    "# sv, yPred = kvsm(gaussianKernel, X, Y, xtest)"
   ]
  },
  {
   "cell_type": "markdown",
   "metadata": {
    "id": "HHq5zEzlQeVI"
   },
   "source": [
    "# Neural network (25 points)\n"
   ]
  },
  {
   "cell_type": "markdown",
   "metadata": {
    "id": "SH3SZjlpe9oT"
   },
   "source": [
    "***Question 5a: Devise a three-layer neural network with n hidden states and sigmoid activations for classification.\n",
    "Explain how many parameters this has in one sentence. (2 points)***\n",
    "\n"
   ]
  },
  {
   "cell_type": "markdown",
   "metadata": {
    "id": "bZ8O7-vOpg9X"
   },
   "source": [
    "A three-layer neural network with n states and sigmoid activations for classification will have 3 layers between the input and output layer. I would have 5 parameters: inputLayerSize (of size n, where n are the number of features in X), hiddenLayerSize_1, hiddenLayerSize_2, hiddenLayerSize_3 (for the number of neurons in each hidden layer) and outputLayerSize."
   ]
  },
  {
   "cell_type": "markdown",
   "metadata": {
    "id": "pkh8l--6fE0G"
   },
   "source": [
    "***Question 5b: Provide the equation for the gradient using chain rule for the network in point a). (8 points)***\n",
    "\n"
   ]
  },
  {
   "cell_type": "markdown",
   "metadata": {
    "id": "RNVWEabXs30c"
   },
   "source": [
    "![Sketch](https://comp0169.s3.eu-west-2.amazonaws.com/WhatsApp+Image+2020-11-06+at+13.21.28.jpeg)\n",
    "\n",
    "\n",
    "![Sketch](https://comp0169.s3.eu-west-2.amazonaws.com/original_5bda8101-8b3c-4985-96f3-cbbc810d67cd_PXL_20201106_130905632.jpg)\n",
    "\n",
    "The final gradient is a vector combining all the component derivatives of the different weights.\n"
   ]
  },
  {
   "cell_type": "markdown",
   "metadata": {
    "id": "QNcvJ9WEfNpz"
   },
   "source": [
    "***Question 5c: Implement the binary classifier nnclass(examplesA, examplesB, testExample) that is trained with\n",
    "your implementation of (stochastic) GD and your gradient function using the network. (10 points)***"
   ]
  },
  {
   "cell_type": "code",
   "execution_count": 25,
   "metadata": {
    "id": "XgoHLOLByxPe"
   },
   "outputs": [],
   "source": [
    "def sigmoid(x):\n",
    "    return 1/(1+np.exp(-x))\n",
    "\n",
    "def sigmoid_derivative(x):\n",
    "    return sigmoid(x)*(1-sigmoid(x))\n",
    "\n",
    "# Forward Operations\n",
    "def forwardPass(X, W):\n",
    "    z = []\n",
    "    a = []\n",
    "    layer_1_input = np.dot(X, w0)\n",
    "    layer_1 = sigmoid(layer_1_input)\n",
    "    z.append(layer_1_input)\n",
    "    a.append(layer_1)\n",
    "    layer_2_input = np.dot(X, w1)\n",
    "    layer_2 = sigmoid(layer_2_input)\n",
    "    z.append(layer_2_input)\n",
    "    a.append(layer_2)\n",
    "    layer_3_input = np.dot(X, w2)\n",
    "    layer_3 = sigmoid(layer_3_input)\n",
    "    z.append(layer_3_input)\n",
    "    a.append(layer_3)\n",
    "    out_layer_input = np.dot(layer_3, w3)\n",
    "    out_layer_activated = sigmoid(out_layer_input)\n",
    "    z.append(out_layer_input)\n",
    "    a.append(out_layer_activated)\n",
    "    return z, a\n",
    "\n",
    "# Backwards propagation\n",
    "def backwardPass(z, a, y_train, W, X):\n",
    "    # compute the gradient w.r.t output of layer 3\n",
    "    learning_rate = 0.001\n",
    "    h_4 = y_train - a[3]\n",
    "    delta_4 = -np.multiply(i_4, sigmoid_derivative(a[3]))\n",
    "    dLdw4 = np.matmul(a[2].T, delta_4)\n",
    "\n",
    "    h_3 = np.matmul(delta_4, W[3].T)\n",
    "    delta_3 = np.multiply(h_3, sigmoid_derivative(a[2]))\n",
    "    dLdw3 = np.matmul(a[1].T, delta_3)\n",
    "\n",
    "    h_2 = np.matmul(h_3, W[2].T)\n",
    "    delta_2 = np.multiply(h_2, sigmoid_derivative(a[1]))\n",
    "    dLdw2 = np.matmul(a[0].T, delta_2)\n",
    "\n",
    "    h_1 = np.matmul(delta_2, W[1].T)\n",
    "    delta_1 = np.multiply(h_1, sigmoid_derivative(a[0]))\n",
    "    dLdw1 = np.matmul(X.T, h_1)\n",
    "\n",
    "    W[0] -= learning_rate * dError_W0\n",
    "    W[1] -= learning_rate * dError_W1\n",
    "    W[2] -= learning_rate * dError_W2\n",
    "    W[3] -= learning_rate * dError_W3\n",
    "\n",
    "    return W\n",
    "\n",
    "# using quadratic cost function\n",
    "def cost(X, yActual):\n",
    "    yHat = forwardPass(X, weights, biases)\n",
    "    J = 0.5*np.add((yActual-yHat)**2)\n",
    "    return J\n",
    "\n",
    "def cost_derivative(yHat, y):\n",
    "    return yHat - y\n",
    "\n",
    "def nnclass(examplesA, examplesB, testExample):\n",
    "    a_labels = np.zeros((examplesA.shape[0], 1))\n",
    "    b_labels = np.zeros((examplesB.shape[0], 1))\n",
    "    y = np.vstack((a_labels, b_labels))\n",
    "    x = np.vstack((examplesA, examplesB))\n",
    "    x_train = add_bias(x)\n",
    "\n",
    "    # n = 256 here\n",
    "    INPUT_LAYER_SIZE = x_train.shape[1]\n",
    "    HIDDEN_LAYER_SIZE_1 = 256\n",
    "    HIDDEN_LAYER_SIZE_2 = 256\n",
    "    HIDDEN_LAYER_SIZE_3 = 256\n",
    "    N_CLASSES = examplesA.shape[0]\n",
    "    OUTPUT_LAYER_SIZE = 2\n",
    "\n",
    "    w0 = np.random.random((INPUT_LAYER_SIZE, HIDDEN_LAYER_SIZE_1)) * 2 - 1\n",
    "    w1 = np.random.random((HIDDEN_LAYER_SIZE_1, HIDDEN_LAYER_SIZE_2)) * 2 - 1\n",
    "    w2 = np.random.random((HIDDEN_LAYER_SIZE_2, HIDDEN_LAYER_SIZE_3)) * 2 - 1\n",
    "    w3 = np.random.random((HIDDEN_LAYER_SIZE_3, N_CLASSES)) * 2 - 1\n",
    "    W = [w0, w1, w2, w3]\n",
    "\n",
    "    for i in range(0, 1000):\n",
    "        batch = random.sample(range(0, x_train.shape[0]), x_train.shape[0]//200)\n",
    "        x_batch = x_train[batch]\n",
    "        z, a = forwardPass(x_batch, W)\n",
    "        W = backwardPass(z, a, y[batch], W, x_batch)\n",
    "\n",
    "    test_X = augmentMatrix(testExample)\n",
    "    z_test, a_test = forwardPass(test_X, W)\n",
    "    return np.where(a_test[-1] >= 0.5, 1, 0)\n"
   ]
  },
  {
   "cell_type": "markdown",
   "metadata": {
    "id": "I-8_H8ChfT4t"
   },
   "source": [
    "***Question 5d: Do an analysis how changes of n affect the accuracy, not longer than a third of a page. A table and /\n",
    "or plot is welcome. Pay attention to table formatting and labels. (5 points)***"
   ]
  },
  {
   "cell_type": "code",
   "execution_count": null,
   "metadata": {
    "id": "GSWyOo1wAqPW"
   },
   "outputs": [],
   "source": [
    "def testnn():\n",
    "  # Pass the single digit class for examples A and the rest for examples B\n",
    "  # Do data preprocessing"
   ]
  }
 ],
 "metadata": {
  "colab": {
   "collapsed_sections": [],
   "name": "comp0169_18001024.ipynb",
   "provenance": []
  },
  "kernelspec": {
   "display_name": "Python 3",
   "language": "python",
   "name": "python3"
  },
  "language_info": {
   "codemirror_mode": {
    "name": "ipython",
    "version": 3
   },
   "file_extension": ".py",
   "mimetype": "text/x-python",
   "name": "python",
   "nbconvert_exporter": "python",
   "pygments_lexer": "ipython3",
   "version": "3.6.12"
  }
 },
 "nbformat": 4,
 "nbformat_minor": 1
}
