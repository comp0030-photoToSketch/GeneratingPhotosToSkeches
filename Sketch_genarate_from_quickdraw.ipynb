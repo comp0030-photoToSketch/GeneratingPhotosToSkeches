{
 "cells": [
  {
   "cell_type": "code",
   "execution_count": 8,
   "metadata": {},
   "outputs": [],
   "source": [
    "import json\n",
    "from scipy import interpolate\n",
    "import pylab as pl\n",
    "f = open(\"Datasets/full_simplified_cat.json\")\n",
    "setting = json.load(f)\n",
    "for j in range(0,10):\n",
    "    for i in range(0,len(setting[j]['drawing'])):\n",
    "        x = setting[j]['drawing'][i][0]\n",
    "        y = setting[j]['drawing'][i][1]\n",
    "        f=interpolate.interp1d(x,y,kind=\"slinear\")\n",
    "        pl.plot(x,y,'k')\n",
    "    ax = pl.gca()\n",
    "    ax.xaxis.set_ticks_position('top')\n",
    "    ax.invert_yaxis()\n",
    "    pl.axis('off')\n",
    "    pl.savefig(\"images/cat/%d.png\"%j)\n",
    "    pl.close()"
   ]
  },
  {
   "cell_type": "code",
   "execution_count": 16,
   "metadata": {},
   "outputs": [
    {
     "name": "stdout",
     "output_type": "stream",
     "text": [
      "(123202,)\n"
     ]
    }
   ],
   "source": [
    "import numpy as np\n",
    "x = np.asarray(setting)\n",
    "print(x.shape)"
   ]
  },
  {
   "cell_type": "code",
   "execution_count": null,
   "metadata": {},
   "outputs": [],
   "source": []
  }
 ],
 "metadata": {
  "kernelspec": {
   "display_name": "Python 3",
   "language": "python",
   "name": "python3"
  },
  "language_info": {
   "codemirror_mode": {
    "name": "ipython",
    "version": 3
   },
   "file_extension": ".py",
   "mimetype": "text/x-python",
   "name": "python",
   "nbconvert_exporter": "python",
   "pygments_lexer": "ipython3",
   "version": "3.8.5"
  }
 },
 "nbformat": 4,
 "nbformat_minor": 4
}
