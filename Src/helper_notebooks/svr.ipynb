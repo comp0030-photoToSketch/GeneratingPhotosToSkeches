{
 "cells": [
  {
   "cell_type": "code",
   "execution_count": 21,
   "metadata": {},
   "outputs": [
    {
     "name": "stdout",
     "output_type": "stream",
     "text": [
      "[[-0.04079411  0.03039105  0.09400072 -0.04624805 -0.06343175 -0.03889983\n",
      "  -0.00113875  0.0878113  -0.04327515  0.0023072  -0.00415789 -0.02634796\n",
      "  -0.00303334 -0.02734844 -0.01391653 -0.02152251 -0.05555161  0.01214852\n",
      "   0.03673564  0.02190894 -0.05987711 -0.06171215  0.01590272  0.01757024\n",
      "   0.02946803  0.00353829  0.03429369  0.02256961 -0.03403559 -0.01333217\n",
      "   0.04461197  0.00988438]]\n"
     ]
    }
   ],
   "source": [
    "import sklearn\n",
    "from sklearn.model_selection import train_test_split\n",
    "from sklearn.svm import SVR\n",
    "from sklearn.multioutput import MultiOutputRegressor\n",
    "\n",
    "data_size = 1000\n",
    "X = torch.empty(data_size, 28, 28)\n",
    "y = torch.empty(data_size, 32)\n",
    "for i in range(data_size):\n",
    "    X[i] = torch.randint(0, 2, (28, 28))\n",
    "    y[i] = torch.randn(32)\n",
    "    \n",
    "X = X.reshape(data_size, 28*28)\n",
    "X_train, X_test, y_train, y_test = train_test_split(X, y, test_size=0.3, random_state=1)\n",
    "\n",
    "# https://scikit-learn.org/stable/auto_examples/svm/plot_svm_regression.html\n",
    "svr_rbf = MultiOutputRegressor(SVR(kernel='rbf', C=100, gamma=0.1, epsilon=.1))\n",
    "svr_rbf.fit(X_train, y_train)\n",
    "y_pred = svr_rbf.predict(X_test) # assumption made is that X here is the encoded image vector\n",
    "y_pred = torch.from_numpy(y_pred)\n",
    "mse = torch.mean((y_pred - y_test)**2)\n",
    "# print(mse)\n",
    "\n",
    "X_n = torch.randint(0, 2, (28, 28))\n",
    "X_n = X_n.reshape(1, 28*28)\n",
    "y_n = svr_rbf.predict(X_n)\n",
    "print(y_n)\n",
    "\n"
   ]
  },
  {
   "cell_type": "code",
   "execution_count": null,
   "metadata": {},
   "outputs": [],
   "source": []
  }
 ],
 "metadata": {
  "kernelspec": {
   "display_name": "Python 3",
   "language": "python",
   "name": "python3"
  },
  "language_info": {
   "codemirror_mode": {
    "name": "ipython",
    "version": 3
   },
   "file_extension": ".py",
   "mimetype": "text/x-python",
   "name": "python",
   "nbconvert_exporter": "python",
   "pygments_lexer": "ipython3",
   "version": "3.6.12"
  }
 },
 "nbformat": 4,
 "nbformat_minor": 5
}
