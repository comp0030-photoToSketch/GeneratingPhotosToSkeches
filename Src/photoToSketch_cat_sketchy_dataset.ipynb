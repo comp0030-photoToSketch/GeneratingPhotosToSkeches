{
 "cells": [
  {
   "cell_type": "code",
   "execution_count": 26,
   "metadata": {},
   "outputs": [
    {
     "name": "stdout",
     "output_type": "stream",
     "text": [
      "cpu\n"
     ]
    }
   ],
   "source": [
    "import warnings\n",
    "warnings.filterwarnings('ignore')\n",
    "\n",
    "import numpy as np\n",
    "import matplotlib.pyplot as plt\n",
    "import matplotlib.image as mpimg\n",
    "import PIL\n",
    "from PIL import Image\n",
    "\n",
    "import torch\n",
    "import torch.nn as nn\n",
    "from torch import optim\n",
    "from torch.utils.data import Dataset, DataLoader\n",
    "import torchvision as tv\n",
    "import torch.nn.functional as F\n",
    "import cv2\n",
    "import os\n",
    "\n",
    "from torch.autograd import Variable\n",
    "\n",
    "use_cuda = torch.cuda.is_available()\n",
    "np.load.__defaults__=(None, True, True, 'ASCII')\n",
    "device = torch.device(\"cuda:0\" if torch.cuda.is_available() else \"cpu\")\n",
    "print(device)"
   ]
  },
  {
   "cell_type": "code",
   "execution_count": 27,
   "metadata": {},
   "outputs": [],
   "source": [
    "class HParams():\n",
    "    def __init__(self):\n",
    "        self.image_size = 28\n",
    "        self.bottleneck_size = 128\n",
    "        self.enc_hidden_size = 256\n",
    "        self.dec_hidden_size = 512\n",
    "        self.Nz = 128\n",
    "        self.M = 20\n",
    "        self.dropout = 0.9\n",
    "        self.batch_size = 100\n",
    "        self.eta_min = 0.01\n",
    "        self.R = 0.99995\n",
    "        self.KL_min = 0.2\n",
    "        self.wKL = 0.5\n",
    "        self.lr = 0.001\n",
    "        self.lr_decay = 0.9999\n",
    "        self.min_lr = 0.00001\n",
    "        self.grad_clip = 1.\n",
    "        self.temperature = 0.4\n",
    "        self.max_seq_length = 200\n",
    "\n",
    "hp = HParams()"
   ]
  },
  {
   "cell_type": "code",
   "execution_count": 28,
   "metadata": {},
   "outputs": [],
   "source": [
    "# We will use this variable in conditional_generation\n",
    "Nmax = 129"
   ]
  },
  {
   "cell_type": "code",
   "execution_count": 29,
   "metadata": {},
   "outputs": [],
   "source": [
    "def rgb2gray(rgb):\n",
    "    return np.dot(rgb[...,:3], [0.2989, 0.5870, 0.1140])"
   ]
  },
  {
   "cell_type": "code",
   "execution_count": 30,
   "metadata": {},
   "outputs": [],
   "source": [
    "class ImageEncoder(nn.Module):\n",
    "    def __init__(self):\n",
    "        super(ImageEncoder, self).__init__()\n",
    "        # 1 input image channel, 6 output channels, 3x3 square convolution\n",
    "        # kernel\n",
    "        self.conv1 = nn.Conv2d(1, 6, 3)\n",
    "        self.conv2 = nn.Conv2d(6, 16, 3)\n",
    "        # an affine operation: y = Wx + b\n",
    "        self.fc1 = nn.Linear(400, 128)  # 6*6 from image dimension\n",
    "#         self.fc2 = nn.Linear(120, 84)\n",
    "#         self.fc3 = nn.Linear(84, 10)\n",
    "\n",
    "    def forward(self, image_paths):\n",
    "        all_zs = torch.empty(0, 128)\n",
    "        # Max pooling over a (2, 2) window\n",
    "        for i, data in enumerate(image_paths):\n",
    "            img = mpimg.imread(data)\n",
    "            gray = rgb2gray(img)\n",
    "            x = torch.from_numpy(gray)\n",
    "            # change (28,28) to (1,1,28,28)\n",
    "            x = torch.unsqueeze(x,0)\n",
    "            x = torch.unsqueeze(x,0)\n",
    "            #print(f\"dimension of x {x.shape}\")\n",
    "            x = F.max_pool2d(F.relu(self.conv1(x.float())), (2, 2))\n",
    "            # If the size is a square you can only specify a single number\n",
    "            x = F.max_pool2d(F.relu(self.conv2(x)), 2)\n",
    "            x = x.view(-1, self.num_flat_features(x))\n",
    "            \n",
    "            #print(x.shape) #1 x 400\n",
    "            x = self.fc1(x)\n",
    "            #print(all_zs.shape)\n",
    "            all_zs = torch.cat([all_zs, x], dim=0)\n",
    "            #all_zs.cat(x)\n",
    "        return all_zs\n",
    "\n",
    "    def num_flat_features(self, x):\n",
    "        size = x.size()[1:]  # all dimensions except the batch dimension\n",
    "        num_features = 1\n",
    "        for s in size:\n",
    "            num_features *= s\n",
    "        return num_features"
   ]
  },
  {
   "cell_type": "code",
   "execution_count": 31,
   "metadata": {},
   "outputs": [],
   "source": [
    "class EncoderRNN(nn.Module):\n",
    "    def __init__(self):\n",
    "        super(EncoderRNN, self).__init__()\n",
    "        # bidirectional lstm:\n",
    "        self.lstm = nn.LSTM(5, hp.enc_hidden_size, \\\n",
    "            dropout=hp.dropout, bidirectional=True)\n",
    "        # create mu and sigma from lstm's last output:\n",
    "        self.fc_mu = nn.Linear(2*hp.enc_hidden_size, hp.Nz)\n",
    "        self.fc_sigma = nn.Linear(2*hp.enc_hidden_size, hp.Nz)\n",
    "        # active dropout:\n",
    "        self.train()\n",
    "\n",
    "    def forward(self, inputs, batch_size, hidden_cell=None):\n",
    "        if hidden_cell is None:\n",
    "            # then must init with zeros\n",
    "            if use_cuda:\n",
    "                hidden = torch.zeros(2, batch_size, hp.enc_hidden_size).cuda()\n",
    "                cell = torch.zeros(2, batch_size, hp.enc_hidden_size).cuda()\n",
    "            else:\n",
    "                hidden = torch.zeros(2, batch_size, hp.enc_hidden_size)\n",
    "                cell = torch.zeros(2, batch_size, hp.enc_hidden_size)\n",
    "            hidden_cell = (hidden, cell)\n",
    "        _, (hidden,cell) = self.lstm(inputs.float(), hidden_cell)\n",
    "        # hidden is (2, batch_size, hidden_size), we want (batch_size, 2*hidden_size):\n",
    "        hidden_forward, hidden_backward = torch.split(hidden,1,0)\n",
    "        hidden_cat = torch.cat([hidden_forward.squeeze(0), hidden_backward.squeeze(0)],1)\n",
    "        # mu and sigma:\n",
    "        mu = self.fc_mu(hidden_cat)\n",
    "        sigma_hat = self.fc_sigma(hidden_cat)\n",
    "        sigma = torch.exp(sigma_hat/2.)\n",
    "        # N ~ N(0,1)\n",
    "        z_size = mu.size()\n",
    "                                   \n",
    "        if use_cuda:\n",
    "            N = torch.normal(torch.zeros(z_size),torch.ones(z_size)).cuda()\n",
    "        else:\n",
    "            N = torch.normal(torch.zeros(z_size),torch.ones(z_size))\n",
    "        z = mu + sigma*N\n",
    "        # mu and sigma_hat are needed for LKL loss\n",
    "        return z, mu, sigma_hat #[100,128]"
   ]
  },
  {
   "cell_type": "code",
   "execution_count": 32,
   "metadata": {},
   "outputs": [],
   "source": [
    "class DecoderRNN(nn.Module):\n",
    "    def __init__(self):\n",
    "        super(DecoderRNN, self).__init__()\n",
    "        # to init hidden and cell from z:\n",
    "        self.fc_hc = nn.Linear(hp.Nz, 2*hp.dec_hidden_size)\n",
    "        # unidirectional lstm:\n",
    "        self.lstm = nn.LSTM(hp.Nz+5, hp.dec_hidden_size, dropout=hp.dropout)\n",
    "        # create proba distribution parameters from hiddens:\n",
    "        self.fc_params = nn.Linear(hp.dec_hidden_size,6*hp.M+3)\n",
    "\n",
    "    def forward(self, inputs, z, hidden_cell=None):\n",
    "        if hidden_cell is None:\n",
    "            # then we must init from z\n",
    "            hidden,cell = torch.split(F.tanh(self.fc_hc(z)),hp.dec_hidden_size,1)\n",
    "            hidden_cell = (hidden.unsqueeze(0).contiguous(), cell.unsqueeze(0).contiguous())\n",
    "        outputs,(hidden,cell) = self.lstm(inputs, hidden_cell)\n",
    "        # in training we feed the lstm with the whole input in one shot\n",
    "        # and use all outputs contained in 'outputs', while in generate\n",
    "        # mode we just feed with the last generated sample:\n",
    "        if self.training:\n",
    "            y = self.fc_params(outputs.view(-1, hp.dec_hidden_size))\n",
    "        else:\n",
    "            y = self.fc_params(hidden.view(-1, hp.dec_hidden_size))\n",
    "        # separate pen and mixture params:\n",
    "        params = torch.split(y,6,1)\n",
    "        params_mixture = torch.stack(params[:-1]) # trajectory\n",
    "        params_pen = params[-1] # pen up/down\n",
    "        # identify mixture params:\n",
    "        pi,mu_x,mu_y,sigma_x,sigma_y,rho_xy = torch.split(params_mixture,1,2)\n",
    "        # preprocess params::\n",
    "        if self.training:\n",
    "            len_out = Nmax+1\n",
    "        else:\n",
    "            len_out = 1\n",
    "                                   \n",
    "        pi = F.softmax(pi.transpose(0,1).squeeze()).view(len_out,-1,hp.M)\n",
    "        sigma_x = torch.exp(sigma_x.transpose(0,1).squeeze()).view(len_out,-1,hp.M)\n",
    "        sigma_y = torch.exp(sigma_y.transpose(0,1).squeeze()).view(len_out,-1,hp.M)\n",
    "        rho_xy = torch.tanh(rho_xy.transpose(0,1).squeeze()).view(len_out,-1,hp.M)\n",
    "        mu_x = mu_x.transpose(0,1).squeeze().contiguous().view(len_out,-1,hp.M)\n",
    "        mu_y = mu_y.transpose(0,1).squeeze().contiguous().view(len_out,-1,hp.M)\n",
    "        q = F.softmax(params_pen).view(len_out,-1,3)\n",
    "        return pi,mu_x,mu_y,sigma_x,sigma_y,rho_xy,q,hidden,cell"
   ]
  },
  {
   "cell_type": "code",
   "execution_count": 33,
   "metadata": {},
   "outputs": [],
   "source": [
    "def lr_decay(optimizer):\n",
    "    \"\"\"Decay learning rate by a factor of lr_decay\"\"\"\n",
    "    for param_group in optimizer.param_groups:\n",
    "        if param_group['lr']>hp.min_lr:\n",
    "            param_group['lr'] *= hp.lr_decay\n",
    "    return optimizer"
   ]
  },
  {
   "cell_type": "code",
   "execution_count": 34,
   "metadata": {},
   "outputs": [],
   "source": [
    "# resize real images\n",
    "def preprocess_image(dir_in, dir_out):\n",
    "    for img in os.listdir(dir_in):         \n",
    "        img_name = os.path.splitext(img)[0]    # remove extension\n",
    "        image = Image.open(os.path.join(dir_in, img))\n",
    "        new_image = image.resize((28, 28))\n",
    "        new_image.save(f\"{dir_out}/{img_name}.png\")\n",
    "        \n",
    "# resize sketch images\n",
    "def preprocess_sketch(dir_in, dir_out):\n",
    "    for sketch in os.listdir(dir_in):         \n",
    "        sketch_name = os.path.splitext(sketch)[0]    # remove extension\n",
    "        s_image = Image.open(os.path.join(dir_in, sketch))\n",
    "        new_image = s_image.resize((28, 28))\n",
    "        new_image.save(f\"{dir_out}/{sketch_name}.png\")"
   ]
  },
  {
   "cell_type": "code",
   "execution_count": 35,
   "metadata": {},
   "outputs": [],
   "source": [
    "def sample_bivariate_normal(mu_x,mu_y,sigma_x,sigma_y,rho_xy, greedy=False):\n",
    "    # inputs must be floats\n",
    "    if greedy:\n",
    "         return mu_x,mu_y\n",
    "    mean = [mu_x, mu_y]\n",
    "    sigma_x *= np.sqrt(hp.temperature)\n",
    "    sigma_y *= np.sqrt(hp.temperature)\n",
    "    cov = [[sigma_x * sigma_x, rho_xy * sigma_x * sigma_y],\\\n",
    "        [rho_xy * sigma_x * sigma_y, sigma_y * sigma_y]]\n",
    "    x = np.random.multivariate_normal(mean, cov, 1)\n",
    "    return x[0][0], x[0][1]    \n",
    "        \n",
    "def make_image(sequence):\n",
    "    \"\"\"plot drawing with separated strokes\"\"\"\n",
    "    strokes = np.split(sequence, np.where(sequence[:,2]>0)[0]+1)\n",
    "    fig = plt.figure()\n",
    "    ax1 = fig.add_subplot(1,1,1)\n",
    "    for s in strokes:\n",
    "        plt.plot(s[:,0],-s[:,1])\n",
    "    #print(\"Outputting sketch\")\n",
    "    #name = str(epoch)+name+'.jpg'\n",
    "    #plt.savefig(F\"./outputs_complete/{name}\")\n",
    "    plt.show()"
   ]
  },
  {
   "cell_type": "code",
   "execution_count": 36,
   "metadata": {},
   "outputs": [],
   "source": [
    "class NewModel():\n",
    "    def __init__(self):\n",
    "        self.s2s_encoder = ImageEncoder().to(device)         \n",
    "        self.decoder = DecoderRNN().to(device)\n",
    "        self.p2s_encoder = ImageEncoder().to(device)\n",
    "        self.p2s_encoder_optimizer = optim.Adam(self.p2s_encoder.parameters(), hp.lr)\n",
    "        self.eta_step = hp.eta_min\n",
    "        self.img_dir = '../Datasets/sketchy_cat/cat_p_train_resized'\n",
    "        self.sketch_dir = '../Datasets/sketchy_cat/cat_s_train_resized'\n",
    "        self.img_paths = []\n",
    "        self.sketch_paths = []\n",
    "            \n",
    "    # For each img, there are multiple sketches. \n",
    "    # e.g. n02121620.png -> n02121620-i.png (i = 1,2,3,...)\n",
    "    \n",
    "    # Add paired paths to img_paths and sketch_paths arrays.  \n",
    "    def process_data(self):\n",
    "        for img in os.listdir(self.img_dir):         \n",
    "            img_name = os.path.splitext(img)[0]    # remove extension\n",
    "            i = 1\n",
    "            while(os.path.exists(f\"{self.sketch_dir}/{img_name}-{i}.png\")):\n",
    "                self.img_paths.append(os.path.join(self.img_dir, img))\n",
    "                sketch = f\"{img_name}-{i}.png\"\n",
    "                self.sketch_paths.append(os.path.join(self.sketch_dir, sketch))\n",
    "                i += 1                                \n",
    "    \n",
    "    # load pre-trained models for training p2s_encoder\n",
    "    def load_for_training(self, s2s_encoder, decoder):\n",
    "        s2s_encoder = torch.load(s2s_encoder)\n",
    "        decoder = torch.load(decoder)\n",
    "        self.s2s_encoder.load_state_dict(s2s_encoder)\n",
    "        self.decoder.load_state_dict(decoder)\n",
    "        \n",
    "    # load the final encoder and decoder for testing the p2s model\n",
    "    def load(self, encoder, decoder):\n",
    "        p2s_encoder = torch.load(encoder)\n",
    "        decoder = torch.load(decoder)\n",
    "        self.p2s_encoder.load_state_dict(p2s_encoder)\n",
    "        self.decoder.load_state_dict(decoder)        \n",
    "            \n",
    "    def train(self, epoch):\n",
    "        self.p2s_encoder.train()\n",
    "        self.decoder.train()\n",
    "        z_target = self.s2s_encoder(self.sketch_paths)\n",
    "        z_pred = self.p2s_encoder(self.img_paths)\n",
    "        \n",
    "        self.p2s_encoder_optimizer.zero_grad()\n",
    "        self.eta_step = 1-(1-hp.eta_min)*hp.R\n",
    "        \n",
    "        loss = self.encoder_loss(z_pred, z_target)\n",
    "        loss.backward()\n",
    "        \n",
    "        nn.utils.clip_grad_norm(self.p2s_encoder.parameters(), hp.grad_clip)\n",
    "        \n",
    "        self.p2s_encoder_optimizer.step()\n",
    "        \n",
    "        if epoch%1==0:\n",
    "            print(f\"The number of epochs is: {epoch} and loss is {loss}\")\n",
    "            self.p2s_encoder_optimizer = lr_decay(self.p2s_encoder_optimizer)\n",
    "        if epoch%100==0:\n",
    "            self.save(epoch)\n",
    "        \n",
    "    def encoder_loss(self, pred_z, target_z):\n",
    "        criterion = nn.MSELoss()\n",
    "        return criterion(pred_z, target_z)\n",
    "    \n",
    "    def save(self, epoch):\n",
    "        random_number = np.random.rand()\n",
    "        enc_model_name = 'img_encoder_%3f_%d.pt' % (random_number, epoch)\n",
    "        enc_path = F\"../p2s_models/cat/{enc_model_name}\"\n",
    "        torch.save(self.p2s_encoder.state_dict(), enc_path)\n",
    "        \n",
    "    def conditional_generation(self, z):\n",
    "        #batch,lengths = make_batch(1)\n",
    "        # should remove dropouts:\n",
    "        self.p2s_encoder.train(False)\n",
    "        self.decoder.train(False)\n",
    "        # encode:\n",
    "        #z, _, _ = self.encoder(batch, 1)\n",
    "        if use_cuda:\n",
    "            sos = Variable(torch.Tensor([0,0,1,0,0]).view(1,1,-1).cuda())\n",
    "        else:\n",
    "            sos = Variable(torch.Tensor([0,0,1,0,0]).view(1,1,-1))\n",
    "        s = sos\n",
    "        seq_x = []\n",
    "        seq_y = []\n",
    "        seq_z = []\n",
    "        hidden_cell = None\n",
    "        for i in range(Nmax):\n",
    "            input = torch.cat([s,z.unsqueeze(0)],2)\n",
    "            # decode:\n",
    "            self.pi, self.mu_x, self.mu_y, self.sigma_x, self.sigma_y, \\\n",
    "                self.rho_xy, self.q, hidden, cell = \\\n",
    "                    self.decoder(input, z, hidden_cell)\n",
    "            hidden_cell = (hidden, cell)\n",
    "            # sample from parameters:\n",
    "            s, dx, dy, pen_down, eos = self.sample_next_state()\n",
    "            #------\n",
    "            seq_x.append(dx)\n",
    "            seq_y.append(dy)\n",
    "            seq_z.append(pen_down)\n",
    "            if eos:\n",
    "                print(i)\n",
    "                break\n",
    "        # visualize result:\n",
    "        x_sample = np.cumsum(seq_x, 0)\n",
    "        y_sample = np.cumsum(seq_y, 0)\n",
    "        z_sample = np.array(seq_z)\n",
    "        sequence = np.stack([x_sample,y_sample,z_sample]).T\n",
    "        make_image(sequence)      \n",
    "        \n",
    "    def sample_next_state(self):\n",
    "        def adjust_temp(pi_pdf):\n",
    "            pi_pdf = np.log(pi_pdf)/hp.temperature\n",
    "            pi_pdf -= pi_pdf.max()\n",
    "            pi_pdf = np.exp(pi_pdf)\n",
    "            pi_pdf /= pi_pdf.sum()\n",
    "            return pi_pdf\n",
    "\n",
    "        # get mixture indice:\n",
    "        pi = self.pi.data[0,0,:].cpu().numpy()\n",
    "        pi = adjust_temp(pi)\n",
    "        pi_idx = np.random.choice(hp.M, p=pi)\n",
    "        # get pen state:\n",
    "        q = self.q.data[0,0,:].cpu().numpy()\n",
    "        q = adjust_temp(q)\n",
    "        q_idx = np.random.choice(3, p=q)\n",
    "        # get mixture params:\n",
    "        mu_x = self.mu_x.data[0,0,pi_idx]\n",
    "        mu_y = self.mu_y.data[0,0,pi_idx]\n",
    "        sigma_x = self.sigma_x.data[0,0,pi_idx]\n",
    "        sigma_y = self.sigma_y.data[0,0,pi_idx]\n",
    "        rho_xy = self.rho_xy.data[0,0,pi_idx]\n",
    "        x,y = sample_bivariate_normal(mu_x,mu_y,sigma_x,sigma_y,rho_xy,greedy=False)\n",
    "        next_state = torch.zeros(5)\n",
    "        next_state[0] = x\n",
    "        next_state[1] = y\n",
    "        next_state[q_idx+2] = 1\n",
    "        if use_cuda:\n",
    "            return Variable(next_state.cuda()).view(1,1,-1),x,y,q_idx==1,q_idx==2\n",
    "        else:\n",
    "            return Variable(next_state).view(1,1,-1),x,y,q_idx==1,q_idx==2"
   ]
  },
  {
   "cell_type": "code",
   "execution_count": 37,
   "metadata": {},
   "outputs": [],
   "source": [
    "# process and train data\n",
    "# preprocess_image('../Datasets/sketchy_cat/cat_p_train', '../Datasets/sketchy_cat/cat_p_train_resized')\n",
    "# preprocess_sketch('../Datasets/sketchy_cat/cat_s_train', '../Datasets/sketchy_cat/cat_s_train_resized')\n",
    "# preprocess_image('../Datasets/sketchy_cat/cat_p_test', '../Datasets/sketchy_cat/cat_p_test_resized')\n",
    "# preprocess_sketch('../Datasets/sketchy_cat/cat_s_test', '../Datasets/sketchy_cat/cat_s_test_resized')\n",
    "\n",
    "# model = NewModel()\n",
    "# model.load_for_training('../Models_Complete/sketchRNN_encoder_0.575094_10900.pt', '../Models_Complete/sketchRNN_decoder_0.575094_10900.pt')\n",
    "# model.process_data()\n",
    "# for epoch in range(50001):\n",
    "#     model.train(epoch)"
   ]
  },
  {
   "cell_type": "code",
   "execution_count": 25,
   "metadata": {},
   "outputs": [
    {
     "data": {
      "image/png": "[encoded data removed]",
      "text/plain": [
       "<Figure size 432x288 with 1 Axes>"
      ]
     },
     "metadata": {
      "needs_background": "light"
     },
     "output_type": "display_data"
    },
    {
     "name": "stdout",
     "output_type": "stream",
     "text": [
      "32\n"
     ]
    },
    {
     "data": {
      "image/png": "[encoded data removed]",
      "text/plain": [
       "<Figure size 432x288 with 1 Axes>"
      ]
     },
     "metadata": {
      "needs_background": "light"
     },
     "output_type": "display_data"
    }
   ],
   "source": [
    "# test the model\n",
    "model = NewModel()\n",
    "model.load('../p2s_models/cat/img_encoder_0.814442_31700.pt', '../Models_Complete/sketchRNN_decoder_0.575094_10900.pt')\n",
    "# img_test = '../Datasets/sketchy_cat/cat_p_test_resized/n02121620_26845.png'\n",
    "img_test = '../Datasets/sketchy_cat/cat_p_test_resized/n02121620_20153.png'\n",
    "img = mpimg.imread(img_test)\n",
    "imgplot = plt.imshow(img)\n",
    "plt.show()\n",
    "z = model.p2s_encoder([img_test])\n",
    "model.conditional_generation(z)"
   ]
  },
  {
   "cell_type": "code",
   "execution_count": 29,
   "metadata": {},
   "outputs": [
    {
     "data": {
      "image/png": "[encoded data removed]",
      "text/plain": [
       "<Figure size 432x288 with 1 Axes>"
      ]
     },
     "metadata": {
      "needs_background": "light"
     },
     "output_type": "display_data"
    },
    {
     "name": "stdout",
     "output_type": "stream",
     "text": [
      "93\n"
     ]
    },
    {
     "data": {
      "image/png": "[encoded data removed]",
      "text/plain": [
       "<Figure size 432x288 with 1 Axes>"
      ]
     },
     "metadata": {
      "needs_background": "light"
     },
     "output_type": "display_data"
    }
   ],
   "source": [
    "# test the model\n",
    "model = NewModel()\n",
    "model.load('../Models_Complete/sketchRNN_encoder_0.575094_10900.pt', '../Models_Complete/sketchRNN_decoder_0.575094_10900.pt')\n",
    "# img_test = '../Datasets/sketchy_cat/cat_p_test_resized/n02121620_26845.png'\n",
    "img_test = '../Datasets/sketchy_cat/cat_p_test_resized/n02121620_20153.png'\n",
    "img = mpimg.imread(img_test)\n",
    "imgplot = plt.imshow(img)\n",
    "plt.show()\n",
    "z = model.p2s_encoder([img_test])\n",
    "model.conditional_generation(z)"
   ]
  },
  {
   "cell_type": "code",
   "execution_count": null,
   "metadata": {},
   "outputs": [],
   "source": []
  }
 ],
 "metadata": {
  "kernelspec": {
   "display_name": "Python 3",
   "language": "python",
   "name": "python3"
  },
  "language_info": {
   "codemirror_mode": {
    "name": "ipython",
    "version": 3
   },
   "file_extension": ".py",
   "mimetype": "text/x-python",
   "name": "python",
   "nbconvert_exporter": "python",
   "pygments_lexer": "ipython3",
   "version": "3.6.12"
  }
 },
 "nbformat": 4,
 "nbformat_minor": 4
}
